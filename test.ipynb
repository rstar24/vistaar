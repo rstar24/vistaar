{
 "cells": [
  {
   "cell_type": "code",
   "execution_count": 2,
   "metadata": {},
   "outputs": [],
   "source": [
    "import pandas as pd \n",
    "import numpy as np \n",
    "import os \n"
   ]
  },
  {
   "cell_type": "code",
   "execution_count": 19,
   "metadata": {},
   "outputs": [
    {
     "data": {
      "text/plain": [
       "1929"
      ]
     },
     "execution_count": 19,
     "metadata": {},
     "output_type": "execute_result"
    }
   ],
   "source": [
    "ref_bench = pd.read_json('/mnt/e/iit-bombay-internship/vistaar/jsons/mini_ref_df.json')\n",
    "hyp_bench = pd.read_json('/mnt/e/iit-bombay-internship/vistaar/output/final-md.json')\n",
    "\n",
    "ref_list = []\n",
    "hyp_list = []\n",
    "\n",
    "for x in ref_bench['text']:\n",
    "    ref_list.append(x)\n",
    "\n",
    "for x in hyp_bench['pred_text']:\n",
    "    hyp_list.append(x)\n",
    "\n",
    "len(ref_list)\n",
    "len(hyp_list)\n",
    "\n",
    "# for i in range(1929):\n",
    "#     if(ref_list[i] == hyp_list[i]):\n",
    "#         print('yep')\n",
    "#     else:\n",
    "#         print('No')\n",
    "\n",
    "\n"
   ]
  },
  {
   "cell_type": "code",
   "execution_count": 20,
   "metadata": {},
   "outputs": [],
   "source": [
    "\n",
    "with open('ref_2.txt','w') as f:\n",
    "    for x in ref_list:\n",
    "        x += '\\n'\n",
    "        f.write(x)\n",
    "    f.close\n",
    "\n",
    "with open('hyp_2.txt','w') as f:\n",
    "    for x in hyp_list:\n",
    "        x += '\\n'\n",
    "        f.write(x)\n",
    "    f.close"
   ]
  },
  {
   "cell_type": "code",
   "execution_count": 24,
   "metadata": {},
   "outputs": [
    {
     "name": "stdout",
     "output_type": "stream",
     "text": [
      "Sentence count: 1929\n",
      "WER:    10.439% (      2359 /      22598)\n",
      "WRR:    90.672% (     20490 /      22598)\n",
      "SER:    58.372% (      1126 /       1929)\n"
     ]
    }
   ],
   "source": [
    "# finaly wer \n",
    "cmd = !wer ref_2.txt hyp_2.txt\n",
    "for x in cmd:\n",
    "    print(x)\n",
    "# print(cmd)"
   ]
  }
 ],
 "metadata": {
  "kernelspec": {
   "display_name": "Python 3 (ipykernel)",
   "language": "python",
   "name": "python3"
  },
  "language_info": {
   "codemirror_mode": {
    "name": "ipython",
    "version": 3
   },
   "file_extension": ".py",
   "mimetype": "text/x-python",
   "name": "python",
   "nbconvert_exporter": "python",
   "pygments_lexer": "ipython3",
   "version": "3.10.4"
  }
 },
 "nbformat": 4,
 "nbformat_minor": 2
}
